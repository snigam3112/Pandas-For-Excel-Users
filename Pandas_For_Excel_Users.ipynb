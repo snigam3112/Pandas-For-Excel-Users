{
  "nbformat": 4,
  "nbformat_minor": 0,
  "metadata": {
    "colab": {
      "name": "Pandas For Excel Users.ipynb",
      "provenance": [],
      "include_colab_link": true
    },
    "kernelspec": {
      "name": "python3",
      "display_name": "Python 3"
    }
  },
  "cells": [
    {
      "cell_type": "markdown",
      "metadata": {
        "id": "view-in-github",
        "colab_type": "text"
      },
      "source": [
        "<a href=\"https://colab.research.google.com/github/snigam3112/Pandas-For-Excel-Users/blob/master/Pandas_For_Excel_Users.ipynb\" target=\"_parent\"><img src=\"https://colab.research.google.com/assets/colab-badge.svg\" alt=\"Open In Colab\"/></a>"
      ]
    },
    {
      "cell_type": "markdown",
      "metadata": {
        "id": "4QPZvswOjL0M",
        "colab_type": "text"
      },
      "source": [
        "Lesson #1: Why bother using Pandas when Excel works?\n",
        "============\n",
        "\n",
        "PROs of using Pandas  \n",
        "----\n",
        "* Excel starts to become slow when working on large datasets (eg: .xlsx file of 100+ MB); Python / Pandas will work perfectly as long as you use it 'correctly'\n",
        "* Using Python / Pandas allows you to do much more advanced statistical analysis & Machine Learning than Exel easily (i.e., easier code)\n",
        "* Using Python / Pandas allows you to leverage other libraries in Python (eg: web-scraping, natural language processing, automation, accessing Web APIS etc.)\n",
        "* You don't have to learn VBA - which has limited general applicability and is harder to learn than Python for complete beginners to coding / programming  \n",
        "\n",
        "PROs of using Excel\n",
        "-------\n",
        "* You already know it\n",
        "* It is a GUI with a simple drag-and-drop UX\n",
        "\n",
        "Things We Need to Be easily be able to do in Python / Pandas to successfully replace Excel\n",
        "--------\n",
        "1. Getting data into Python / Pandas  \n",
        "1. Setting the right column and row names\n",
        "1. Cleaning up the data\n",
        "1. Accessing a sub-set of the data\n",
        "1. Pivoting and Unpivoting data\n",
        "1. Filtering data\n",
        "1. Sorting data\n",
        "1. Doing basic mathematical operations\n",
        "1. Visualizing data\n",
        "1. Creating reports (.xlsx / .pdf / .pptx)\n",
        "\n",
        "\n",
        "---\n",
        "\n",
        "\n"
      ]
    },
    {
      "cell_type": "code",
      "metadata": {
        "id": "A75Jj8cslmaU",
        "colab_type": "code",
        "colab": {}
      },
      "source": [
        "#starting Python / Pandas (including the graphing capabilities)\n",
        "import pandas as pd\n",
        "import seaborn as sb"
      ],
      "execution_count": 0,
      "outputs": []
    },
    {
      "cell_type": "markdown",
      "metadata": {
        "id": "ATMdfyGfl0rT",
        "colab_type": "text"
      },
      "source": [
        "Getting Data into Python / Pandas\n",
        "=======\n",
        "From an Excel file:"
      ]
    },
    {
      "cell_type": "code",
      "metadata": {
        "id": "tN9w7Q9hmAMJ",
        "colab_type": "code",
        "colab": {}
      },
      "source": [
        "df_excel = pd.read_excel(\"\")\n",
        "df_csv = pd.read_csv(\"\")\n",
        "df_html = pd.read_table(\"\")\n",
        "df_clipboard = pd.read_clipboard(\"\")"
      ],
      "execution_count": 0,
      "outputs": []
    }
  ]
}